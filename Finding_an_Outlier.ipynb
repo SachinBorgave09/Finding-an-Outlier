{
  "nbformat": 4,
  "nbformat_minor": 0,
  "metadata": {
    "colab": {
      "name": "Finding-an-Outlier.ipynb",
      "version": "0.3.2",
      "provenance": [],
      "collapsed_sections": [],
      "include_colab_link": true
    },
    "kernelspec": {
      "name": "python3",
      "display_name": "Python 3"
    }
  },
  "cells": [
    {
      "cell_type": "markdown",
      "metadata": {
        "id": "view-in-github",
        "colab_type": "text"
      },
      "source": [
        "<a href=\"https://colab.research.google.com/github/SachinBorgave09/Finding-an-Outlier/blob/master/Finding_an_Outlier.ipynb\" target=\"_parent\"><img src=\"https://colab.research.google.com/assets/colab-badge.svg\" alt=\"Open In Colab\"/></a>"
      ]
    },
    {
      "cell_type": "markdown",
      "metadata": {
        "id": "Hzv1Uc9u0jT6",
        "colab_type": "text"
      },
      "source": [
        "## **What is an outlier?**</br>\n",
        "An outlier is a data point in a data set that is distant from all other observations. A data point that lies outside the overall distribution of the dataset."
      ]
    },
    {
      "cell_type": "code",
      "metadata": {
        "id": "Hmx1MqhR0mTM",
        "colab_type": "code",
        "colab": {}
      },
      "source": [
        "import numpy as np\n",
        "import matplotlib.pyplot as plt\n",
        "%matplotlib inline"
      ],
      "execution_count": 0,
      "outputs": []
    },
    {
      "cell_type": "markdown",
      "metadata": {
        "id": "RR-SZFSy9V0r",
        "colab_type": "text"
      },
      "source": [
        "## **What are the criteria to identify an outlier?**\n",
        "1.Data point that falls outside of 1.5 times of an interquartile range above the 3rd quartile and below the 1st quartile</br>\n",
        "2.Data point that falls outside of 3 standard deviations. we can use a z score and if the z score falls outside of 2 standard deviation"
      ]
    },
    {
      "cell_type": "markdown",
      "metadata": {
        "id": "93nzuvzx9lDU",
        "colab_type": "text"
      },
      "source": [
        "## **What is the reason for an outlier to exists in a dataset?**</br>\n",
        "1.Variability in the data</br>\n",
        "2.An experimental measurement error"
      ]
    },
    {
      "cell_type": "markdown",
      "metadata": {
        "id": "Mqgy_zPQ9xiM",
        "colab_type": "text"
      },
      "source": [
        "## **What are the impacts of having outliers in a dataset?**\n",
        "1.It causes various problems during our statistical analysis</br>\n",
        "2.It may cause a significant impact on the mean and the standard deviation"
      ]
    },
    {
      "cell_type": "markdown",
      "metadata": {
        "id": "qwGm_1E_97mK",
        "colab_type": "text"
      },
      "source": [
        "## **Various ways of finding the outlier.**</br>\n",
        "1.Using scatter plots</br>\n",
        "2.Box plot</br>\n",
        "3.using z score</br>\n",
        "4.using the IQR interquantile range"
      ]
    },
    {
      "cell_type": "code",
      "metadata": {
        "id": "r8zuQAev-JI4",
        "colab_type": "code",
        "colab": {}
      },
      "source": [
        "dataset= [11,10,12,14,12,15,14,13,15,102,12,14,17,19,107, 10,13,12,14,12,108,12,11,14,13,15,10,15,12,10,14,13,15,10]"
      ],
      "execution_count": 0,
      "outputs": []
    },
    {
      "cell_type": "markdown",
      "metadata": {
        "id": "7Ev1nFRI-MS0",
        "colab_type": "text"
      },
      "source": [
        "# **Detecting outlier using Z score**"
      ]
    },
    {
      "cell_type": "markdown",
      "metadata": {
        "id": "ZI7X5pLp-cOk",
        "colab_type": "text"
      },
      "source": [
        "## **Using Z score**"
      ]
    },
    {
      "cell_type": "markdown",
      "metadata": {
        "id": "4tG9fVO4-hJ1",
        "colab_type": "text"
      },
      "source": [
        "Formula for Z score = (Observation — Mean)/Standard Deviation</br>\n",
        "z = (X — μ) / σ"
      ]
    },
    {
      "cell_type": "code",
      "metadata": {
        "id": "t2DiZhnL-p6j",
        "colab_type": "code",
        "colab": {}
      },
      "source": [
        "outliers=[]\n",
        "def detect_outliers(data):\n",
        "    \n",
        "    threshold=3\n",
        "    mean = np.mean(data)\n",
        "    std =np.std(data)\n",
        "    \n",
        "    \n",
        "    for i in data:\n",
        "        z_score= (i - mean)/std \n",
        "        if np.abs(z_score) > threshold:\n",
        "            outliers.append(i)\n",
        "    return outliers"
      ],
      "execution_count": 0,
      "outputs": []
    },
    {
      "cell_type": "code",
      "metadata": {
        "id": "0vVpVKLF-qZC",
        "colab_type": "code",
        "colab": {}
      },
      "source": [
        "outlier_pt=detect_outliers(dataset)"
      ],
      "execution_count": 0,
      "outputs": []
    },
    {
      "cell_type": "code",
      "metadata": {
        "id": "63jADlE5_CNA",
        "colab_type": "code",
        "outputId": "1332675b-4462-4a4b-fdbb-f7213ef3e9eb",
        "colab": {
          "base_uri": "https://localhost:8080/",
          "height": 36
        }
      },
      "source": [
        "outlier_pt"
      ],
      "execution_count": 5,
      "outputs": [
        {
          "output_type": "execute_result",
          "data": {
            "text/plain": [
              "[102, 107, 108]"
            ]
          },
          "metadata": {
            "tags": []
          },
          "execution_count": 5
        }
      ]
    },
    {
      "cell_type": "markdown",
      "metadata": {
        "id": "yU9ZGJGc_HHZ",
        "colab_type": "text"
      },
      "source": [
        "# **InterQuantile Range**"
      ]
    },
    {
      "cell_type": "markdown",
      "metadata": {
        "id": "lKjIneFZ_MFI",
        "colab_type": "text"
      },
      "source": [
        "75%- 25% values in a dataset"
      ]
    },
    {
      "cell_type": "markdown",
      "metadata": {
        "id": "j60rDj4S_OQk",
        "colab_type": "text"
      },
      "source": [
        "## **Steps**"
      ]
    },
    {
      "cell_type": "markdown",
      "metadata": {
        "id": "zAB2QmjR_VMw",
        "colab_type": "text"
      },
      "source": [
        "**1. Arrange the data in increasing order**</br>\n",
        "**2. Calculate first(q1) and third quartile(q3)**</br>\n",
        "**3. Find interquartile range (q3-q1)**</br>\n",
        "**4.Find lower bound q1*1.5</br>**\n",
        "**5.Find upper bound q3*1.5**</br>\n",
        "Anything that lies outside of lower and upper bound is an outlier"
      ]
    },
    {
      "cell_type": "code",
      "metadata": {
        "id": "zVvEmZEH_1kv",
        "colab_type": "code",
        "outputId": "2512a5fe-c71d-45d6-b154-69c15e7edf32",
        "colab": {
          "base_uri": "https://localhost:8080/",
          "height": 653
        }
      },
      "source": [
        "## Perform all the steps of IQR\n",
        "sorted(dataset)"
      ],
      "execution_count": 6,
      "outputs": [
        {
          "output_type": "execute_result",
          "data": {
            "text/plain": [
              "[10,\n",
              " 10,\n",
              " 10,\n",
              " 10,\n",
              " 10,\n",
              " 11,\n",
              " 11,\n",
              " 12,\n",
              " 12,\n",
              " 12,\n",
              " 12,\n",
              " 12,\n",
              " 12,\n",
              " 12,\n",
              " 13,\n",
              " 13,\n",
              " 13,\n",
              " 13,\n",
              " 14,\n",
              " 14,\n",
              " 14,\n",
              " 14,\n",
              " 14,\n",
              " 14,\n",
              " 15,\n",
              " 15,\n",
              " 15,\n",
              " 15,\n",
              " 15,\n",
              " 17,\n",
              " 19,\n",
              " 102,\n",
              " 107,\n",
              " 108]"
            ]
          },
          "metadata": {
            "tags": []
          },
          "execution_count": 6
        }
      ]
    },
    {
      "cell_type": "code",
      "metadata": {
        "id": "YRzpq9Qr_2Ht",
        "colab_type": "code",
        "colab": {}
      },
      "source": [
        "quantile1, quantile3= np.percentile(dataset,[25,75])"
      ],
      "execution_count": 0,
      "outputs": []
    },
    {
      "cell_type": "code",
      "metadata": {
        "id": "hH08Ghgz_4je",
        "colab_type": "code",
        "outputId": "d5b33b1d-72c0-4436-e034-07b05f73ef22",
        "colab": {
          "base_uri": "https://localhost:8080/",
          "height": 36
        }
      },
      "source": [
        "print(quantile1,quantile3)"
      ],
      "execution_count": 8,
      "outputs": [
        {
          "output_type": "stream",
          "text": [
            "12.0 15.0\n"
          ],
          "name": "stdout"
        }
      ]
    },
    {
      "cell_type": "code",
      "metadata": {
        "id": "7FFDfw3a_6Gb",
        "colab_type": "code",
        "outputId": "c2be2ecd-09af-47c5-d12d-5d43725b4126",
        "colab": {
          "base_uri": "https://localhost:8080/",
          "height": 36
        }
      },
      "source": [
        "## Find the IQR\n",
        "\n",
        "iqr_value=quantile3-quantile1\n",
        "print(iqr_value)"
      ],
      "execution_count": 9,
      "outputs": [
        {
          "output_type": "stream",
          "text": [
            "3.0\n"
          ],
          "name": "stdout"
        }
      ]
    },
    {
      "cell_type": "code",
      "metadata": {
        "id": "z6kmvglpAC8F",
        "colab_type": "code",
        "colab": {}
      },
      "source": [
        "## Find the lower bound value and the higher bound value\n",
        "\n",
        "lower_bound_val = quantile1 -(1.5 * iqr_value) \n",
        "upper_bound_val = quantile3 +(1.5 * iqr_value)"
      ],
      "execution_count": 0,
      "outputs": []
    },
    {
      "cell_type": "code",
      "metadata": {
        "id": "l87pWhzU_9h_",
        "colab_type": "code",
        "outputId": "f9934de7-6c83-4c00-aa3f-ac0b7e104abf",
        "colab": {
          "base_uri": "https://localhost:8080/",
          "height": 36
        }
      },
      "source": [
        "print(lower_bound_val,upper_bound_val)"
      ],
      "execution_count": 11,
      "outputs": [
        {
          "output_type": "stream",
          "text": [
            "7.5 19.5\n"
          ],
          "name": "stdout"
        }
      ]
    }
  ]
}